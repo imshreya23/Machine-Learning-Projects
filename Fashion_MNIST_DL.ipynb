{
 "cells": [
  {
   "cell_type": "code",
   "execution_count": 1,
   "metadata": {},
   "outputs": [],
   "source": [
    "# !pip install tensorflow"
   ]
  },
  {
   "cell_type": "code",
   "execution_count": 2,
   "metadata": {
    "id": "Qk_bY3UGukuM"
   },
   "outputs": [],
   "source": [
    "import tensorflow as tf\n",
    "from tensorflow.keras.models import Sequential\n",
    "from tensorflow.keras.layers import Dense, Dropout,BatchNormalization\n",
    "from tensorflow.keras.datasets import fashion_mnist\n",
    "import numpy as np\n",
    "import matplotlib.pyplot as plt"
   ]
  },
  {
   "cell_type": "markdown",
   "metadata": {
    "id": "e6UVzQDt5Yup"
   },
   "source": [
    "### Here we import the dataset from the tensorflow library instead of loading it from Google Drive/Local machine. "
   ]
  },
  {
   "cell_type": "code",
   "execution_count": 3,
   "metadata": {
    "colab": {
     "base_uri": "https://localhost:8080/",
     "height": 153
    },
    "id": "bkrMYxivvKCp",
    "outputId": "e9d8f647-dff9-487e-f4af-0d9cfde13e5b",
    "scrolled": true
   },
   "outputs": [
    {
     "name": "stdout",
     "output_type": "stream",
     "text": [
      "Downloading data from https://storage.googleapis.com/tensorflow/tf-keras-datasets/train-labels-idx1-ubyte.gz\n",
      "32768/29515 [=================================] - 0s 2us/step\n",
      "Downloading data from https://storage.googleapis.com/tensorflow/tf-keras-datasets/train-images-idx3-ubyte.gz\n",
      "26427392/26421880 [==============================] - 10s 0us/step\n",
      "Downloading data from https://storage.googleapis.com/tensorflow/tf-keras-datasets/t10k-labels-idx1-ubyte.gz\n",
      "8192/5148 [===============================================] - 0s 0us/step\n",
      "Downloading data from https://storage.googleapis.com/tensorflow/tf-keras-datasets/t10k-images-idx3-ubyte.gz\n",
      "4423680/4422102 [==============================] - 2s 0us/step\n"
     ]
    }
   ],
   "source": [
    "(x_train, y_train),(x_test,y_test) = fashion_mnist.load_data()\n"
   ]
  },
  {
   "cell_type": "code",
   "execution_count": 4,
   "metadata": {
    "colab": {
     "base_uri": "https://localhost:8080/",
     "height": 34
    },
    "id": "w8j5vOuTvPu0",
    "outputId": "166f081b-f5e9-468b-d8cb-bebc993f022e"
   },
   "outputs": [
    {
     "data": {
      "text/plain": [
       "((60000, 28, 28), (60000,))"
      ]
     },
     "execution_count": 4,
     "metadata": {},
     "output_type": "execute_result"
    }
   ],
   "source": [
    "x_train.shape, y_train.shape\n"
   ]
  },
  {
   "cell_type": "code",
   "execution_count": 5,
   "metadata": {
    "id": "jxIr_vVwvY7M"
   },
   "outputs": [],
   "source": [
    "x_train = x_train.reshape(x_train.shape[0],x_train.shape[1]*x_train.shape[2])   ## (28x28),(28*28,1 )\n"
   ]
  },
  {
   "cell_type": "code",
   "execution_count": 6,
   "metadata": {
    "colab": {
     "base_uri": "https://localhost:8080/",
     "height": 34
    },
    "id": "hPnXUfQivkIC",
    "outputId": "a6d504dc-e1b5-4d80-a5d3-7b4978dc2d51"
   },
   "outputs": [
    {
     "data": {
      "text/plain": [
       "(60000, 784)"
      ]
     },
     "execution_count": 6,
     "metadata": {},
     "output_type": "execute_result"
    }
   ],
   "source": [
    "x_train.shape"
   ]
  },
  {
   "cell_type": "code",
   "execution_count": 7,
   "metadata": {
    "colab": {
     "base_uri": "https://localhost:8080/",
     "height": 34
    },
    "id": "pNc6MnKFwZ3Z",
    "outputId": "57c75dcd-bdf7-4c0d-da17-abd334bb9439"
   },
   "outputs": [
    {
     "data": {
      "text/plain": [
       "(10000, 784)"
      ]
     },
     "execution_count": 7,
     "metadata": {},
     "output_type": "execute_result"
    }
   ],
   "source": [
    "x_test = x_test.reshape(x_test.shape[0],x_test.shape[1]*x_test.shape[2])\n",
    "x_test.shape"
   ]
  },
  {
   "cell_type": "code",
   "execution_count": 8,
   "metadata": {
    "id": "22uT9ifOw8vF"
   },
   "outputs": [],
   "source": [
    "x_train = x_train/255\n",
    "x_test = x_test/255"
   ]
  },
  {
   "cell_type": "code",
   "execution_count": 27,
   "metadata": {
    "id": "mv--MuK8xVIM"
   },
   "outputs": [],
   "source": [
    "model = Sequential()\n",
    "\n",
    "model.add(Dense(784,input_shape=(784,)))\n",
    "model.add(Dense(1000,activation='relu'))\n",
    "model.add(Dropout(0.3))\n",
    "model.add(Dense(500,activation='relu'))\n",
    "model.add(Dropout(0.3))\n",
    "model.add(Dense(250,activation='relu'))\n",
    "model.add(Dropout(0.3))\n",
    "model.add(Dense(100,activation='relu'))\n",
    "model.add(Dropout(0.3))\n",
    "model.add(Dense(10,activation='softmax'))"
   ]
  },
  {
   "cell_type": "code",
   "execution_count": 28,
   "metadata": {
    "id": "xWRMVl2gxy1J"
   },
   "outputs": [],
   "source": [
    "model.compile(loss='sparse_categorical_crossentropy',optimizer='adam',metrics=['accuracy'])"
   ]
  },
  {
   "cell_type": "code",
   "execution_count": 29,
   "metadata": {
    "colab": {
     "base_uri": "https://localhost:8080/",
     "height": 734
    },
    "id": "oiE55yDfx3Fx",
    "outputId": "68e68435-872d-4ba9-ff55-08f1775a80ea",
    "scrolled": true
   },
   "outputs": [
    {
     "name": "stdout",
     "output_type": "stream",
     "text": [
      "Epoch 1/35\n",
      "120/120 [==============================] - 7s 57ms/step - loss: 1.0525 - accuracy: 0.6190 - val_loss: 0.4454 - val_accuracy: 0.8435\n",
      "Epoch 2/35\n",
      "120/120 [==============================] - 7s 59ms/step - loss: 0.4696 - accuracy: 0.8360 - val_loss: 0.4399 - val_accuracy: 0.8444\n",
      "Epoch 3/35\n",
      "120/120 [==============================] - 6s 54ms/step - loss: 0.4077 - accuracy: 0.8578 - val_loss: 0.3870 - val_accuracy: 0.8645\n",
      "Epoch 4/35\n",
      "120/120 [==============================] - 7s 61ms/step - loss: 0.3780 - accuracy: 0.8657 - val_loss: 0.3920 - val_accuracy: 0.8586\n",
      "Epoch 5/35\n",
      "120/120 [==============================] - 8s 64ms/step - loss: 0.3471 - accuracy: 0.8755 - val_loss: 0.3722 - val_accuracy: 0.8628\n",
      "Epoch 6/35\n",
      "120/120 [==============================] - 7s 62ms/step - loss: 0.3450 - accuracy: 0.8758 - val_loss: 0.3451 - val_accuracy: 0.8761\n",
      "Epoch 7/35\n",
      "120/120 [==============================] - 7s 62ms/step - loss: 0.3193 - accuracy: 0.8858 - val_loss: 0.3546 - val_accuracy: 0.8731\n",
      "Epoch 8/35\n",
      "120/120 [==============================] - 7s 59ms/step - loss: 0.3012 - accuracy: 0.8931 - val_loss: 0.3670 - val_accuracy: 0.8672\n",
      "Epoch 9/35\n",
      "120/120 [==============================] - 7s 58ms/step - loss: 0.3053 - accuracy: 0.8908 - val_loss: 0.3439 - val_accuracy: 0.8712\n",
      "Epoch 10/35\n",
      "120/120 [==============================] - 6s 53ms/step - loss: 0.2997 - accuracy: 0.8912 - val_loss: 0.3461 - val_accuracy: 0.8762\n",
      "Epoch 11/35\n",
      "120/120 [==============================] - 6s 53ms/step - loss: 0.2832 - accuracy: 0.8988 - val_loss: 0.3352 - val_accuracy: 0.8829\n",
      "Epoch 12/35\n",
      "120/120 [==============================] - 6s 52ms/step - loss: 0.2766 - accuracy: 0.8992 - val_loss: 0.3282 - val_accuracy: 0.8816\n",
      "Epoch 13/35\n",
      "120/120 [==============================] - 6s 53ms/step - loss: 0.2724 - accuracy: 0.8992 - val_loss: 0.3353 - val_accuracy: 0.8830\n",
      "Epoch 14/35\n",
      "120/120 [==============================] - 6s 53ms/step - loss: 0.2659 - accuracy: 0.9009 - val_loss: 0.3278 - val_accuracy: 0.8860\n",
      "Epoch 15/35\n",
      "120/120 [==============================] - 7s 56ms/step - loss: 0.2569 - accuracy: 0.9048 - val_loss: 0.3331 - val_accuracy: 0.8865\n",
      "Epoch 16/35\n",
      "120/120 [==============================] - 6s 53ms/step - loss: 0.2598 - accuracy: 0.9044 - val_loss: 0.3301 - val_accuracy: 0.8875\n",
      "Epoch 17/35\n",
      "120/120 [==============================] - 6s 53ms/step - loss: 0.2495 - accuracy: 0.9073 - val_loss: 0.3222 - val_accuracy: 0.8878\n",
      "Epoch 18/35\n",
      "120/120 [==============================] - 6s 53ms/step - loss: 0.2470 - accuracy: 0.9099 - val_loss: 0.3373 - val_accuracy: 0.8817\n",
      "Epoch 19/35\n",
      "120/120 [==============================] - 6s 53ms/step - loss: 0.2466 - accuracy: 0.9109 - val_loss: 0.3306 - val_accuracy: 0.8808\n",
      "Epoch 20/35\n",
      "120/120 [==============================] - 7s 55ms/step - loss: 0.2313 - accuracy: 0.9132 - val_loss: 0.3183 - val_accuracy: 0.8929\n",
      "Epoch 21/35\n",
      "120/120 [==============================] - 7s 54ms/step - loss: 0.2268 - accuracy: 0.9155 - val_loss: 0.3349 - val_accuracy: 0.8890\n",
      "Epoch 22/35\n",
      "120/120 [==============================] - 6s 52ms/step - loss: 0.2329 - accuracy: 0.9137 - val_loss: 0.3328 - val_accuracy: 0.8902\n",
      "Epoch 23/35\n",
      "120/120 [==============================] - 6s 54ms/step - loss: 0.2175 - accuracy: 0.9184 - val_loss: 0.3322 - val_accuracy: 0.8897\n",
      "Epoch 24/35\n",
      "120/120 [==============================] - 7s 54ms/step - loss: 0.2181 - accuracy: 0.9188 - val_loss: 0.3392 - val_accuracy: 0.8878\n",
      "Epoch 25/35\n",
      "120/120 [==============================] - 7s 55ms/step - loss: 0.2234 - accuracy: 0.9178 - val_loss: 0.3206 - val_accuracy: 0.8883\n",
      "Epoch 26/35\n",
      "120/120 [==============================] - 7s 55ms/step - loss: 0.2016 - accuracy: 0.9255 - val_loss: 0.3378 - val_accuracy: 0.8944\n",
      "Epoch 27/35\n",
      "120/120 [==============================] - 7s 56ms/step - loss: 0.2076 - accuracy: 0.9220 - val_loss: 0.3349 - val_accuracy: 0.8904\n",
      "Epoch 28/35\n",
      "120/120 [==============================] - 7s 55ms/step - loss: 0.2113 - accuracy: 0.9230 - val_loss: 0.3158 - val_accuracy: 0.8926\n",
      "Epoch 29/35\n",
      "120/120 [==============================] - 6s 53ms/step - loss: 0.2049 - accuracy: 0.9238 - val_loss: 0.3211 - val_accuracy: 0.8921\n",
      "Epoch 30/35\n",
      "120/120 [==============================] - 6s 53ms/step - loss: 0.2005 - accuracy: 0.9252 - val_loss: 0.3181 - val_accuracy: 0.8934\n",
      "Epoch 31/35\n",
      "120/120 [==============================] - 7s 57ms/step - loss: 0.1956 - accuracy: 0.9272 - val_loss: 0.3331 - val_accuracy: 0.8963\n",
      "Epoch 32/35\n",
      "120/120 [==============================] - 7s 59ms/step - loss: 0.1959 - accuracy: 0.9246 - val_loss: 0.3202 - val_accuracy: 0.8957\n",
      "Epoch 33/35\n",
      "120/120 [==============================] - 7s 58ms/step - loss: 0.1813 - accuracy: 0.9316 - val_loss: 0.3483 - val_accuracy: 0.8939\n",
      "Epoch 34/35\n",
      "120/120 [==============================] - 8s 65ms/step - loss: 0.1910 - accuracy: 0.9271 - val_loss: 0.3432 - val_accuracy: 0.8895\n",
      "Epoch 35/35\n",
      "120/120 [==============================] - 8s 64ms/step - loss: 0.1946 - accuracy: 0.9266 - val_loss: 0.3308 - val_accuracy: 0.8914\n"
     ]
    },
    {
     "data": {
      "text/plain": [
       "<tensorflow.python.keras.callbacks.History at 0x2a29fe2b730>"
      ]
     },
     "execution_count": 29,
     "metadata": {},
     "output_type": "execute_result"
    }
   ],
   "source": [
    "model.fit(x_train,y_train,batch_size=500,epochs=35,validation_data=(x_test,y_test))"
   ]
  },
  {
   "cell_type": "code",
   "execution_count": 30,
   "metadata": {
    "id": "NSHxIHpex6ol"
   },
   "outputs": [
    {
     "name": "stdout",
     "output_type": "stream",
     "text": [
      "313/313 [==============================] - 2s 4ms/step - loss: 0.3308 - accuracy: 0.8914\n"
     ]
    },
    {
     "data": {
      "text/plain": [
       "[0.3308354616165161, 0.8913999795913696]"
      ]
     },
     "execution_count": 30,
     "metadata": {},
     "output_type": "execute_result"
    }
   ],
   "source": [
    "model.evaluate(x_test, y_test)"
   ]
  }
 ],
 "metadata": {
  "accelerator": "GPU",
  "colab": {
   "name": "Fashion_MNIST_DL.ipynb",
   "provenance": []
  },
  "kernelspec": {
   "display_name": "Python 3",
   "language": "python",
   "name": "python3"
  },
  "language_info": {
   "codemirror_mode": {
    "name": "ipython",
    "version": 3
   },
   "file_extension": ".py",
   "mimetype": "text/x-python",
   "name": "python",
   "nbconvert_exporter": "python",
   "pygments_lexer": "ipython3",
   "version": "3.8.3"
  }
 },
 "nbformat": 4,
 "nbformat_minor": 1
}
